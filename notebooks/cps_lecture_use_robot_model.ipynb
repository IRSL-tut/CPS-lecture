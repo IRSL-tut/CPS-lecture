{
 "cells": [
  {
   "cell_type": "markdown",
   "id": "7e63c11a",
   "metadata": {},
   "source": [
    "# ロボットモデルの使い方"
   ]
  },
  {
   "cell_type": "code",
   "execution_count": 1,
   "id": "ef1202ec-6a72-40e8-b65a-c09d4468e221",
   "metadata": {},
   "outputs": [],
   "source": [
    "exec(open('/choreonoid_ws/install/share/irsl_choreonoid/sample/irsl_import.py').read())"
   ]
  },
  {
   "cell_type": "markdown",
   "id": "24492982",
   "metadata": {},
   "source": [
    "## ロボットモデル(raw)のロード"
   ]
  },
  {
   "cell_type": "code",
   "execution_count": 2,
   "id": "b93d734b-3ff3-4872-b132-7c0c037ab4d0",
   "metadata": {},
   "outputs": [],
   "source": [
    "## fname に ロードするファイル名を設定する\n",
    "fname = 'SimpleHand.body'\n",
    "if iu.isInChoreonoid():\n",
    "    rb = ib.loadRobotItem(fname, world=False) ## in choreonoid GUI\n",
    "else:\n",
    "    rb = iu.loadRobot(fname) ## without GUI"
   ]
  },
  {
   "cell_type": "code",
   "execution_count": 3,
   "id": "5c9b686e-bc87-4bde-b464-44208b3dd432",
   "metadata": {},
   "outputs": [],
   "source": [
    "robot = RobotModel(rb)"
   ]
  },
  {
   "cell_type": "markdown",
   "id": "28d0843d-0bd9-4193-b272-60ff450550f2",
   "metadata": {},
   "source": [
    "## ロボットモデルの操作\n",
    "cps_lecture_robot_model.ipynb を参考に ( https://github.com/IRSL-tut/CPS-lecture/blob/main/notebooks/cps_lecture_robot_model.ipynb )"
   ]
  },
  {
   "cell_type": "markdown",
   "id": "ca46bcd8",
   "metadata": {},
   "source": [
    "### angle-vector\n",
    "全身の関節角度のベクトル"
   ]
  },
  {
   "cell_type": "code",
   "execution_count": 4,
   "id": "5694d3b3-fb7d-4e21-9324-e0bf02322cfa",
   "metadata": {},
   "outputs": [
    {
     "data": {
      "text/plain": [
       "array([0., 0., 0., 0., 0., 0., 0., 0., 0., 0., 0., 0., 0., 0., 0., 0., 0.,\n",
       "       0., 0., 0.])"
      ]
     },
     "execution_count": 4,
     "metadata": {},
     "output_type": "execute_result"
    }
   ],
   "source": [
    "vec = robot.angleVector()\n",
    "vec"
   ]
  },
  {
   "cell_type": "markdown",
   "id": "60af3636",
   "metadata": {},
   "source": [
    "angle-vectorをセットする"
   ]
  },
  {
   "cell_type": "code",
   "execution_count": 5,
   "id": "b3c14129-97ad-4567-bf38-c507bc4149cd",
   "metadata": {},
   "outputs": [],
   "source": [
    "vec[2] = -0.3\n",
    "robot.angleVector(vec)"
   ]
  },
  {
   "cell_type": "markdown",
   "id": "e690da56",
   "metadata": {},
   "source": [
    "### 関節への名前アクセス"
   ]
  },
  {
   "cell_type": "code",
   "execution_count": 6,
   "id": "0055bcfb-5e57-4528-adc7-bbd601ba6866",
   "metadata": {},
   "outputs": [
    {
     "data": {
      "text/plain": [
       "['thumb0', 'thumb1', 'thumb2', 'thumb3', 'finger0_0', 'finger0_1', 'finger0_2', 'finger0_3', 'finger1_0', 'finger1_1', 'finger1_2', 'finger1_3', 'finger2_0', 'finger2_1', 'finger2_2', 'finger2_3', 'finger3_0', 'finger3_1', 'finger3_2', 'finger3_3']"
      ]
     },
     "execution_count": 6,
     "metadata": {},
     "output_type": "execute_result"
    }
   ],
   "source": [
    "robot.jointNames"
   ]
  },
  {
   "cell_type": "code",
   "execution_count": 7,
   "id": "4ce057dd-e546-4049-b986-8919b20d0ab8",
   "metadata": {},
   "outputs": [
    {
     "data": {
      "text/plain": [
       "0.5"
      ]
     },
     "execution_count": 7,
     "metadata": {},
     "output_type": "execute_result"
    }
   ],
   "source": [
    "robot.jointAngle('finger0_0', 0.5)"
   ]
  },
  {
   "cell_type": "markdown",
   "id": "92cdb610",
   "metadata": {},
   "source": [
    "### 関節への辞書型でのアクセス"
   ]
  },
  {
   "cell_type": "code",
   "execution_count": 15,
   "id": "4fe94100-f713-4953-b9e8-d099307a78c6",
   "metadata": {},
   "outputs": [
    {
     "data": {
      "text/plain": [
       "True"
      ]
     },
     "execution_count": 15,
     "metadata": {},
     "output_type": "execute_result"
    }
   ],
   "source": [
    "robot.setAngleMap({'jname1': -0.8, 'jname2': 1.6})"
   ]
  },
  {
   "cell_type": "markdown",
   "id": "94a86a1f",
   "metadata": {},
   "source": [
    "### ロボットの座標系\n",
    "ロボットの座標系は上部をZ軸とし、前方をX軸とする。\n",
    "\n",
    "ワールド座標系は、Z軸方向が鉛直上向きとする。"
   ]
  },
  {
   "cell_type": "code",
   "execution_count": 16,
   "id": "f082c6d5-d13f-4460-8b30-05a5ad6d386e",
   "metadata": {},
   "outputs": [
    {
     "data": {
      "text/plain": [
       "<coordinates[0x560ac8be6030] 0 0 0.784 / 0 0 0 1 >"
      ]
     },
     "execution_count": 16,
     "metadata": {},
     "output_type": "execute_result"
    }
   ],
   "source": [
    "robot.rootCoords()"
   ]
  }
 ],
 "metadata": {
  "kernelspec": {
   "display_name": "Robot Programming",
   "language": "python",
   "name": "roboprog"
  },
  "language_info": {
   "codemirror_mode": "",
   "file_extension": ".py",
   "mimetype": "text/x-python",
   "name": "python",
   "nbconvert_exporter": "",
   "pygments_lexer": "ipython3",
   "version": "3.7"
  }
 },
 "nbformat": 4,
 "nbformat_minor": 5
}
