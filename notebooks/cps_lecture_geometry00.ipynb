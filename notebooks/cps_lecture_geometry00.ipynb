{
 "cells": [
  {
   "cell_type": "markdown",
   "id": "005c9853",
   "metadata": {},
   "source": [
    "# 幾何構造を作る"
   ]
  },
  {
   "cell_type": "code",
   "execution_count": 1,
   "id": "b04cfac8-c8cd-40b7-8064-991768de35ee",
   "metadata": {},
   "outputs": [],
   "source": [
    "exec(open('/choreonoid_ws/install/share/irsl_choreonoid/sample/irsl_import.py').read())"
   ]
  },
  {
   "cell_type": "markdown",
   "id": "cd2407bb",
   "metadata": {},
   "source": [
    "## 表示用のオブジェクト\n",
    "DrawInterface を作る。 DrawCoordsと同じような働きをする。"
   ]
  },
  {
   "cell_type": "code",
   "execution_count": 2,
   "id": "276e28bb-d839-43d9-946d-56ab50300e10",
   "metadata": {},
   "outputs": [],
   "source": [
    "di = DrawInterface()"
   ]
  },
  {
   "cell_type": "markdown",
   "id": "81bf4ea2",
   "metadata": {},
   "source": [
    "### BOXを作る\n",
    "最初の3つのパラメータは、x,y,z軸方向の辺の長さ。colorはRed, Blue, Greenを表すリストで、それぞれの数字は0から1数字。\n",
    "\n",
    "```mkshapes.makeBox(0.5, 0.5, 0.5, color = [0, 1, 0])```"
   ]
  },
  {
   "cell_type": "code",
   "execution_count": 3,
   "id": "4bf261a7-7508-4fbd-ad2b-b5a5765e9335",
   "metadata": {},
   "outputs": [],
   "source": [
    "box = mkshapes.makeBox(0.5, 0.5, 0.5, color = [0, 1, 0])\n",
    "di.addPyObject(box)"
   ]
  },
  {
   "cell_type": "markdown",
   "id": "be5cb98d",
   "metadata": {},
   "source": [
    "### Cylinderを作る\n",
    "最初の2つのパラメータはradius(半径)とlength(長さ)。\n",
    "\n",
    "```mkshapes.makeCylinder(0.2, 0.6, color = [0, 0, 1])```\n"
   ]
  },
  {
   "cell_type": "code",
   "execution_count": 4,
   "id": "14a2837a-4241-4742-99d3-d09ef9208654",
   "metadata": {},
   "outputs": [],
   "source": [
    "cyl = mkshapes.makeCylinder(0.2, 0.6, color = [0, 0, 1])\n",
    "di.addPyObject(cyl)"
   ]
  },
  {
   "cell_type": "code",
   "execution_count": 5,
   "id": "165dbdff-e5d9-4eab-9918-44194ffab6e8",
   "metadata": {},
   "outputs": [
    {
     "data": {
      "text/plain": [
       "Wrap: <coordinates[0x5652f7feeb50] 0 1 0 / 0 0 0 1 > | <cnoid.Util.SgPosTransform object at 0x7fb0ead954f0>"
      ]
     },
     "execution_count": 5,
     "metadata": {},
     "output_type": "execute_result"
    }
   ],
   "source": [
    "cyl.translate(fv(0, 1., 0))"
   ]
  },
  {
   "cell_type": "markdown",
   "id": "ddd7e940",
   "metadata": {},
   "source": [
    "### Sphereを作る\n",
    "パラメータはradius(半径)。\n",
    "\n",
    "```mkshapes.makeSphere(0.2, color = [1, 0, 0])```"
   ]
  },
  {
   "cell_type": "code",
   "execution_count": 6,
   "id": "947571dd-31f3-4abd-a415-159597e5ee82",
   "metadata": {},
   "outputs": [],
   "source": [
    "sph = mkshapes.makeSphere(0.2, color = [1, 0, 0])\n",
    "di.addPyObject(sph)"
   ]
  },
  {
   "cell_type": "code",
   "execution_count": 7,
   "id": "7cc2e88d-08f8-4409-8229-bc759c1ce686",
   "metadata": {},
   "outputs": [
    {
     "data": {
      "text/plain": [
       "Wrap: <coordinates[0x5652f8135030] 0 0 1 / 0 0 0 1 > | <cnoid.Util.SgPosTransform object at 0x7fb0ea28e530>"
      ]
     },
     "execution_count": 7,
     "metadata": {},
     "output_type": "execute_result"
    }
   ],
   "source": [
    "sph.translate(fv(0, 0, 1.))"
   ]
  },
  {
   "cell_type": "markdown",
   "id": "26cf229e",
   "metadata": {},
   "source": [
    "### Torusを作る\n",
    "最初の2つのパラメータはトーラスの軸の半径と、トーラス全体の円の半径。次の2つのパラメータは、全体の円の開始角度と終了角度。\n",
    "\n",
    "```mkshapes.makeTorus(0.3, 0.1, 0, PI, color = [1, 0, 1])```"
   ]
  },
  {
   "cell_type": "code",
   "execution_count": 8,
   "id": "d7b9817e-8271-421d-b45a-5f52770d7591",
   "metadata": {},
   "outputs": [],
   "source": [
    "trs = mkshapes.makeTorus(0.3, 0.1, 0, PI, color = [1, 0, 1])\n",
    "di.addPyObject(trs)"
   ]
  },
  {
   "cell_type": "code",
   "execution_count": 9,
   "id": "3d384859-9ba9-4600-8703-84a797414023",
   "metadata": {},
   "outputs": [
    {
     "data": {
      "text/plain": [
       "Wrap: <coordinates[0x5652f7ac4f90] 1 0 0 / 0 0 0 1 > | <cnoid.Util.SgPosTransform object at 0x7fb0ea28e730>"
      ]
     },
     "execution_count": 9,
     "metadata": {},
     "output_type": "execute_result"
    }
   ],
   "source": [
    "trs.translate(fv(1., 0, 0))"
   ]
  },
  {
   "cell_type": "markdown",
   "id": "91891304",
   "metadata": {},
   "source": [
    "### Coneを作る\n",
    "最初の2つのパラメータはradius(半径)とlength(長さ)。\n",
    "\n",
    "```mkshapes.makeCone(0.3, 0.6, color = [1, 1, 0])```"
   ]
  },
  {
   "cell_type": "code",
   "execution_count": 10,
   "id": "18ca0720-66dd-4840-9501-753f643c71c1",
   "metadata": {},
   "outputs": [],
   "source": [
    "cone = mkshapes.makeCone(0.3, 0.6, color = [1, 1, 0])\n",
    "di.addPyObject(cone)"
   ]
  },
  {
   "cell_type": "code",
   "execution_count": 11,
   "id": "be8c97a4-55d8-45d1-a325-4e482f9b23b9",
   "metadata": {},
   "outputs": [
    {
     "data": {
      "text/plain": [
       "Wrap: <coordinates[0x5652f8121000] 0 0 -1 / 0 0 0 1 > | <cnoid.Util.SgPosTransform object at 0x7fb0ea28e6f0>"
      ]
     },
     "execution_count": 11,
     "metadata": {},
     "output_type": "execute_result"
    }
   ],
   "source": [
    "cone.translate(fv(0, 0, -1))"
   ]
  },
  {
   "cell_type": "markdown",
   "id": "e62b920a",
   "metadata": {},
   "source": [
    "### 全体表示する"
   ]
  },
  {
   "cell_type": "code",
   "execution_count": 12,
   "id": "f82fbad2-d562-4c6e-9e24-5890db74a1f0",
   "metadata": {},
   "outputs": [],
   "source": [
    "di.viewAll()"
   ]
  },
  {
   "cell_type": "markdown",
   "id": "77dd089c",
   "metadata": {},
   "source": [
    "### ファイルに保存する"
   ]
  },
  {
   "cell_type": "markdown",
   "id": "76f60661",
   "metadata": {},
   "source": [
    "ファイルへの書き出し。<scene_object>は書き出すオブジェクト。\n",
    "\n",
    "```di.SgPosTransform``` は ```di``` で表示したオブジェクトです。\n",
    "\n",
    "```exportMesh(<filename>, <sene_object>)```"
   ]
  },
  {
   "cell_type": "code",
   "execution_count": 14,
   "id": "5194ef6a-8c09-4552-bfd3-3edead659b5f",
   "metadata": {},
   "outputs": [],
   "source": [
    "succ = mkshapes.exportMesh(\"/userdir/test.obj\", di.SgPosTransform) ## all Object"
   ]
  },
  {
   "cell_type": "markdown",
   "id": "dc1cd64c",
   "metadata": {},
   "source": [
    "### 表示を消す"
   ]
  },
  {
   "cell_type": "code",
   "execution_count": 15,
   "id": "34b764ad-29a3-4b8b-94d2-346b20d937d0",
   "metadata": {},
   "outputs": [],
   "source": [
    "di.clear()"
   ]
  },
  {
   "cell_type": "markdown",
   "id": "ea0afed2",
   "metadata": {},
   "source": [
    "### メッシュファイルをロードする"
   ]
  },
  {
   "cell_type": "code",
   "execution_count": 16,
   "id": "d059404a-b82f-405f-8515-418950c8179b",
   "metadata": {},
   "outputs": [],
   "source": [
    "mesh0 = mkshapes.loadMesh('/userdir/test.obj')"
   ]
  },
  {
   "cell_type": "markdown",
   "id": "c92aff97",
   "metadata": {},
   "source": [
    "ロードしたメッシュファイルの表示"
   ]
  },
  {
   "cell_type": "code",
   "execution_count": 17,
   "id": "b1607c4b-5d8f-4db7-b4ba-61e5f9906c3a",
   "metadata": {},
   "outputs": [],
   "source": [
    "di.addPyObject(mesh0)"
   ]
  },
  {
   "cell_type": "markdown",
   "id": "b4c714f4",
   "metadata": {},
   "source": [
    "### メッシュを移動させる"
   ]
  },
  {
   "cell_type": "code",
   "execution_count": 18,
   "id": "d01d6c1e-f226-44dd-9e2e-f225e9e3dabf",
   "metadata": {},
   "outputs": [
    {
     "data": {
      "text/plain": [
       "Wrap: <coordinates[0x5652f818df80] 0 0 0.5 / 0 0 0 1 > | <cnoid.Util.SgPosTransform object at 0x7fb0ea28e930>"
      ]
     },
     "execution_count": 18,
     "metadata": {},
     "output_type": "execute_result"
    }
   ],
   "source": [
    "mesh0.translate(fv(0, 0, 0.5))"
   ]
  },
  {
   "cell_type": "code",
   "execution_count": 19,
   "id": "10232d1a-f24b-4164-8d86-adb3b5a663c5",
   "metadata": {},
   "outputs": [
    {
     "data": {
      "text/plain": [
       "Wrap: <coordinates[0x5652f818df80] 0 0 0.5 / -0.258819 0 0 0.965926 > | <cnoid.Util.SgPosTransform object at 0x7fb0ea28e930>"
      ]
     },
     "execution_count": 19,
     "metadata": {},
     "output_type": "execute_result"
    }
   ],
   "source": [
    "mesh0.rotate(-PI/6, fv(1, 0, 0))"
   ]
  },
  {
   "cell_type": "markdown",
   "id": "653118ae",
   "metadata": {},
   "source": [
    "### 全体表示"
   ]
  },
  {
   "cell_type": "code",
   "execution_count": 20,
   "id": "d58d6059-98f0-4a96-94c5-389171e25d39",
   "metadata": {},
   "outputs": [],
   "source": [
    "di.viewAll()"
   ]
  },
  {
   "cell_type": "markdown",
   "id": "9adbb99c-00d3-489a-bbee-91d257c20331",
   "metadata": {},
   "source": [
    "### カメラ移動の話"
   ]
  },
  {
   "cell_type": "code",
   "execution_count": 21,
   "id": "c493787b",
   "metadata": {},
   "outputs": [
    {
     "data": {
      "text/plain": [
       "{'pos': [6.576129166881733, 3.421073870122904, 1.4119232540866062], 'aa': [-0.42827072259411303, -0.6929561569542485, 0.5799965109446048, 2.453213535504213], 'fov': 0.6108652381980153}"
      ]
     },
     "execution_count": 21,
     "metadata": {},
     "output_type": "execute_result"
    }
   ],
   "source": [
    "ib.getCameraCoordsParam()"
   ]
  },
  {
   "cell_type": "markdown",
   "id": "66524fa5",
   "metadata": {},
   "source": [
    "ib.cameraPositionLookingAt の3つのパラメータは、カメラの位置、カメラの視線（光軸）の先の点、カメラの上方向になります。"
   ]
  },
  {
   "cell_type": "code",
   "execution_count": 22,
   "id": "408da4a2",
   "metadata": {},
   "outputs": [
    {
     "data": {
      "text/plain": [
       "<coordinates[0x5652f7ff1df0] 3 1.5 3 / 0.218655 0.353792 0.773588 0.478104 >"
      ]
     },
     "execution_count": 22,
     "metadata": {},
     "output_type": "execute_result"
    }
   ],
   "source": [
    "cam_coords = ib.cameraPositionLookingAt([3.0, 1.5, 3.0], [0, 0, 0.1], [0, 0, 1])\n",
    "cam_coords"
   ]
  },
  {
   "cell_type": "code",
   "execution_count": 23,
   "id": "efc7adb4",
   "metadata": {},
   "outputs": [],
   "source": [
    "ib.setCameraCoords(cam_coords)"
   ]
  },
  {
   "cell_type": "code",
   "execution_count": 24,
   "id": "c8771ced",
   "metadata": {},
   "outputs": [],
   "source": [
    "ret = ib.getCameraCoords()"
   ]
  },
  {
   "cell_type": "code",
   "execution_count": 25,
   "id": "fe58ed96-cc5d-42f8-a15b-189368d10b87",
   "metadata": {},
   "outputs": [
    {
     "data": {
      "text/plain": [
       "(<coordinates[0x5652f81b3720] 3 1.5 3 / 0.478104 0.773588 -0.353792 -0.218655 >, 0.6108652381980153)"
      ]
     },
     "execution_count": 25,
     "metadata": {},
     "output_type": "execute_result"
    }
   ],
   "source": [
    "ret"
   ]
  },
  {
   "cell_type": "code",
   "execution_count": 26,
   "id": "2987b68b",
   "metadata": {},
   "outputs": [],
   "source": [
    "di.viewAll()"
   ]
  },
  {
   "cell_type": "code",
   "execution_count": 27,
   "id": "00292d8b",
   "metadata": {},
   "outputs": [],
   "source": [
    "ret = ib.getCameraCoordsParam()"
   ]
  },
  {
   "cell_type": "code",
   "execution_count": 28,
   "id": "a647cd05-b4f9-41a2-96e5-9dbf8a9dd315",
   "metadata": {},
   "outputs": [],
   "source": [
    "ret['fov'] = 1.2"
   ]
  },
  {
   "cell_type": "code",
   "execution_count": 29,
   "id": "d141ad4d-af60-4090-a8bf-d4aaa34f5a86",
   "metadata": {},
   "outputs": [
    {
     "data": {
      "text/plain": [
       "{'pos': [5.180870945921031, 2.723448181825721, 4.683207384349592], 'aa': [-0.4899596098918555, -0.7927713019196614, 0.36256481286416364, 2.7007204463430363], 'fov': 1.2}"
      ]
     },
     "execution_count": 29,
     "metadata": {},
     "output_type": "execute_result"
    }
   ],
   "source": [
    "ret"
   ]
  },
  {
   "cell_type": "code",
   "execution_count": 30,
   "id": "9c21ab77-c4b5-4b20-abc4-b18e375d2da6",
   "metadata": {},
   "outputs": [],
   "source": [
    "ib.setCameraCoordsParam(ret)"
   ]
  }
 ],
 "metadata": {
  "kernelspec": {
   "display_name": "Robot Programming",
   "language": "python",
   "name": "roboprog"
  },
  "language_info": {
   "codemirror_mode": "",
   "file_extension": ".py",
   "mimetype": "text/x-python",
   "name": "python",
   "nbconvert_exporter": "",
   "pygments_lexer": "",
   "version": "3.7"
  }
 },
 "nbformat": 4,
 "nbformat_minor": 5
}
