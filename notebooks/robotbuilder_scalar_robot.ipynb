{
 "cells": [
  {
   "cell_type": "code",
   "execution_count": 2,
   "id": "f276cfe2-b6d3-4196-96e0-b63c66a14e65",
   "metadata": {},
   "outputs": [],
   "source": [
    "exec(open('/choreonoid_ws/install/share/irsl_choreonoid/sample/irsl_import.py').read())"
   ]
  },
  {
   "cell_type": "code",
   "execution_count": 2,
   "id": "edb72c53-217c-43f7-98b8-6d31fe0db6a9",
   "metadata": {},
   "outputs": [],
   "source": [
    "rb=RobotBuilder()"
   ]
  },
  {
   "cell_type": "markdown",
   "id": "4f724052-5f08-429e-84e7-9321710500b0",
   "metadata": {},
   "source": [
    "## rootlink"
   ]
  },
  {
   "cell_type": "code",
   "execution_count": 3,
   "id": "ae6e8f67-b1fc-4f85-8b20-3db67b52ce3a",
   "metadata": {},
   "outputs": [],
   "source": [
    "g_color = [0.2, 0.7, 0.2]\n",
    "a_color = [0.7, 0.2, 0.2]\n",
    "p_base_h = 0.4\n",
    "p_base_w = 0.3\n",
    "p_base_range = 0.6\n",
    "p_j1_size_r = 0.2\n",
    "p_j1_size_t = 0.1\n",
    "p_l1_size_len = 1.2\n",
    "p_l1_size_t = 0.05\n",
    "p_j2_size_r = 0.15\n",
    "p_j2_size_t = 0.05\n",
    "p_l2_size_len = 1.2\n",
    "p_l2_size_t = 0.05\n",
    "p_j3_size_r = 0.1\n",
    "p_j3_size_t = 0.15"
   ]
  },
  {
   "cell_type": "code",
   "execution_count": 4,
   "id": "6e5f76be-829f-48cb-bbcc-60407cfc4b42",
   "metadata": {},
   "outputs": [
    {
     "data": {
      "text/plain": [
       "Wrap: <coordinates[0x58ef610e9240] 0 0 0.5 / 0 0 0 1 > | <cnoid.Util.SgPosTransform object at 0x7b1ea987e570>"
      ]
     },
     "execution_count": 4,
     "metadata": {},
     "output_type": "execute_result"
    }
   ],
   "source": [
    "b0=rb.makeBox(p_base_w*1.25, p_base_w*1.25, 0.75*p_base_h, color=g_color)\n",
    "b0.translate(fv(0, 0, 0.5*0.75*p_base_h))\n",
    "b1=rb.makeBox(p_base_w, p_base_w, p_base_h, color=g_color)\n",
    "b1.translate(fv(0, 0, 0.75*p_base_h + 0.5*p_base_h))"
   ]
  },
  {
   "cell_type": "code",
   "execution_count": 5,
   "id": "1a67f895-5b0b-49ba-86e3-928ec85a7ee2",
   "metadata": {},
   "outputs": [],
   "source": [
    "l_root=rb.createLinkFromShape(name='Root', root=True, density=400.0)"
   ]
  },
  {
   "cell_type": "markdown",
   "id": "196a3fac-2c74-41ad-a8e2-b26658e57bbf",
   "metadata": {},
   "source": [
    "## link0"
   ]
  },
  {
   "cell_type": "code",
   "execution_count": 6,
   "id": "3b32ed0b-37af-4368-84db-694c5c12a4fe",
   "metadata": {},
   "outputs": [
    {
     "data": {
      "text/plain": [
       "Wrap: <coordinates[0x58ef610e93b0] 0 0 0.75 / 0.707107 0 0 0.707107 > | <cnoid.Util.SgPosTransform object at 0x7b1ea88f85b0>"
      ]
     },
     "execution_count": 6,
     "metadata": {},
     "output_type": "execute_result"
    }
   ],
   "source": [
    "b2=rb.makeBox(p_base_w * 0.67, p_base_w * 0.67, p_base_range, color=a_color)\n",
    "b2.locate(fv(0, 0, -0.5*p_base_range + 1.75*p_base_h))\n",
    "b3=rb.makeCylinder(p_j1_size_r, p_j1_size_t, color=g_color)\n",
    "b3.rotate(PI/2, coordinates.X)\n",
    "b3.translate(fv(0, 0, p_base_h*1.75 + p_j1_size_t*0.5), coordinates.wrt.world)"
   ]
  },
  {
   "cell_type": "code",
   "execution_count": 7,
   "id": "f3da3702-8f13-4b73-868e-c67af8d4fd76",
   "metadata": {},
   "outputs": [
    {
     "data": {
      "text/plain": [
       "Wrap: <coordinates[0x58ef5fd43490] 0 0 0.7 / 0.707107 0 0 0.707107 > | <cnoid.Util.SgPosTransform object at 0x7b1ed8056db0>"
      ]
     },
     "execution_count": 7,
     "metadata": {},
     "output_type": "execute_result"
    }
   ],
   "source": [
    "j=rb.createJointShape(jointType=Link.JointType.PrismaticJoint)\n",
    "j.rotate(PI/2, coordinates.X)\n",
    "j.translate(fv(0, 0, p_base_h*1.75), coordinates.wrt.world)"
   ]
  },
  {
   "cell_type": "code",
   "execution_count": 8,
   "id": "a5d5ba3f-f0b6-491b-8661-ed54dbaf7177",
   "metadata": {},
   "outputs": [],
   "source": [
    "l0=rb.createLinkFromShape(name='LINK0', parentLink=l_root, density=400.0, JointId=0, JointName='JOINT0',\n",
    "                          InitialJointAngle=0.0, JointRange=[0, 0.6], JointVelocityRange=[-PI*10, PI*10], JointEffortRange=[-100, 100],\n",
    "                          EquivalentRotorInertia=0.1)"
   ]
  },
  {
   "cell_type": "markdown",
   "id": "b71b869f-03e9-4744-b943-26268466838a",
   "metadata": {},
   "source": [
    "## link1"
   ]
  },
  {
   "cell_type": "code",
   "execution_count": 9,
   "id": "9a85a0cb-9ff8-4cab-9b4a-78cd8d0b8e95",
   "metadata": {},
   "outputs": [
    {
     "data": {
      "text/plain": [
       "Wrap: <coordinates[0x58ef610d7300] 0 0.4 0.925 / 0 0 0 1 > | <cnoid.Util.SgPosTransform object at 0x7b1ea8886630>"
      ]
     },
     "execution_count": 9,
     "metadata": {},
     "output_type": "execute_result"
    }
   ],
   "source": [
    "b4=rb.makeCylinder(p_j1_size_r, p_j1_size_t, color=a_color)\n",
    "b4.rotate(PI/2, coordinates.X)\n",
    "b4.translate(fv(0, 0, p_base_h*1.75 + p_j1_size_t*1.5), coordinates.wrt.world)\n",
    "b5=rb.makeBox(p_j1_size_r*2, p_l1_size_len, p_l1_size_t, color=g_color)\n",
    "b5.translate(fv(0, 0.5*p_l1_size_len - p_j1_size_r, p_l1_size_t*0.5 + p_base_h*1.75 + p_j1_size_t*2))"
   ]
  },
  {
   "cell_type": "code",
   "execution_count": 10,
   "id": "3953e5e8-4022-4060-8bfa-138b3f40f7b1",
   "metadata": {},
   "outputs": [
    {
     "data": {
      "text/plain": [
       "Wrap: <coordinates[0x58ef610d7200] 0 0 0.8 / 0.707107 0 0 0.707107 > | <cnoid.Util.SgPosTransform object at 0x7b1edade7570>"
      ]
     },
     "execution_count": 10,
     "metadata": {},
     "output_type": "execute_result"
    }
   ],
   "source": [
    "j=rb.createJointShape(jointType=Link.JointType.RevoluteJoint)\n",
    "j.rotate(PI/2, coordinates.X)\n",
    "j.translate(fv(0, 0, p_base_h*1.75 + p_j1_size_t), coordinates.wrt.world)"
   ]
  },
  {
   "cell_type": "code",
   "execution_count": 11,
   "id": "7209f477-f727-4d74-b781-83cd37088753",
   "metadata": {},
   "outputs": [],
   "source": [
    "l1=rb.createLinkFromShape(name='LINK1', parentLink=l0, density=400.0, JointId=1, JointName='JOINT1',\n",
    "                          InitialJointAngle=0.0, JointRange=[-PI, PI], JointVelocityRange=[-PI*10, PI*10], JointEffortRange=[-100, 100],\n",
    "                          EquivalentRotorInertia=0.1)"
   ]
  },
  {
   "cell_type": "markdown",
   "id": "f8ee351c-07c3-48b6-9764-2ae60e3a4ac6",
   "metadata": {},
   "source": [
    "## link2"
   ]
  },
  {
   "cell_type": "code",
   "execution_count": 12,
   "id": "5179c0f9-37ed-4ae8-870e-015e96b496c9",
   "metadata": {},
   "outputs": [
    {
     "data": {
      "text/plain": [
       "0.85"
      ]
     },
     "execution_count": 12,
     "metadata": {},
     "output_type": "execute_result"
    }
   ],
   "source": [
    "p_l1_size_len - p_j1_size_r - p_j2_size_r"
   ]
  },
  {
   "cell_type": "code",
   "execution_count": 13,
   "id": "4a396466-3b54-4315-9ee1-b0191cd6aa86",
   "metadata": {},
   "outputs": [
    {
     "data": {
      "text/plain": [
       "Wrap: <coordinates[0x58ef61195080] 0 1.3 0.825 / 0 0 0 1 > | <cnoid.Util.SgPosTransform object at 0x7b1ea888a430>"
      ]
     },
     "execution_count": 13,
     "metadata": {},
     "output_type": "execute_result"
    }
   ],
   "source": [
    "b6=rb.makeCylinder(p_j2_size_r, p_j2_size_t, color=a_color)\n",
    "b6.rotate(PI/2, coordinates.X)\n",
    "b6.translate(fv(0, p_l1_size_len - p_j1_size_r - p_j2_size_r,  p_base_h*1.75 + p_j1_size_t*2 - p_j2_size_t*0.5), coordinates.wrt.world)\n",
    "b7=rb.makeBox(p_j2_size_r*2, p_l2_size_len, p_l2_size_t, color=g_color)\n",
    "b7.translate(fv(0, 0.5*p_l2_size_len + p_l1_size_len - p_j1_size_r - 2*p_j2_size_r, p_base_h*1.75 + p_j1_size_t*2 - p_j2_size_t - p_l2_size_t*0.5))"
   ]
  },
  {
   "cell_type": "code",
   "execution_count": 14,
   "id": "ae1eb7aa-bdd3-4001-94d3-c9c2079df4d5",
   "metadata": {},
   "outputs": [
    {
     "data": {
      "text/plain": [
       "Wrap: <coordinates[0x58ef610f8980] 0 0.85 0.9 / 0.707107 0 0 0.707107 > | <cnoid.Util.SgPosTransform object at 0x7b1ea94a1370>"
      ]
     },
     "execution_count": 14,
     "metadata": {},
     "output_type": "execute_result"
    }
   ],
   "source": [
    "j=rb.createJointShape(jointType=Link.JointType.RevoluteJoint)\n",
    "j.rotate(PI/2, coordinates.X)\n",
    "j.translate(fv(0, p_l1_size_len - p_j1_size_r - p_j2_size_r, p_base_h*1.75 + p_j1_size_t*2), coordinates.wrt.world)"
   ]
  },
  {
   "cell_type": "code",
   "execution_count": 15,
   "id": "114ebd2c-e840-43e1-b44c-652de3f95de5",
   "metadata": {},
   "outputs": [],
   "source": [
    "l2=rb.createLinkFromShape(name='LINK2', parentLink=l1, density=400.0, JointId=2, JointName='JOINT2',\n",
    "                          InitialJointAngle=0.0, JointRange=[-PI, PI], JointVelocityRange=[-PI*10, PI*10], JointEffortRange=[-100, 100],\n",
    "                          EquivalentRotorInertia=0.1)"
   ]
  },
  {
   "cell_type": "markdown",
   "id": "bd786c85-4186-417b-a7b3-323f59c802c3",
   "metadata": {},
   "source": [
    "## link3"
   ]
  },
  {
   "cell_type": "code",
   "execution_count": 16,
   "id": "ee95e22c-20c0-4fa7-8ded-f4b33246e67b",
   "metadata": {},
   "outputs": [
    {
     "data": {
      "text/plain": [
       "Wrap: <coordinates[0x58ef610d5b50] 0 1.8 0.725 / 0.707107 0 0 0.707107 > | <cnoid.Util.SgPosTransform object at 0x7b1ea88f4170>"
      ]
     },
     "execution_count": 16,
     "metadata": {},
     "output_type": "execute_result"
    }
   ],
   "source": [
    "b8=rb.makeCylinder(p_j3_size_r, p_j3_size_t, color=a_color)\n",
    "b8.rotate(PI/2, coordinates.X)\n",
    "b8.translate(fv(0, p_l1_size_len - p_j1_size_r - p_j2_size_r + p_l2_size_len - p_j2_size_r - p_j3_size_r,\n",
    "                   p_base_h*1.75 + p_j1_size_t*2 - p_j2_size_t - p_l2_size_t - p_j3_size_t*0.5), coordinates.wrt.world)"
   ]
  },
  {
   "cell_type": "code",
   "execution_count": 17,
   "id": "ea40c5c8-8682-4cc2-976b-ef67a12456b0",
   "metadata": {},
   "outputs": [
    {
     "data": {
      "text/plain": [
       "Wrap: <coordinates[0x58ef6119e9a0] 0 1.8 0.6 / 0 0 0 1 > | <cnoid.Util.SgPosTransform object at 0x7b1ea8895570>"
      ]
     },
     "execution_count": 17,
     "metadata": {},
     "output_type": "execute_result"
    }
   ],
   "source": [
    "## gripper shape ## TODO add size\n",
    "g_size_t = 0.1\n",
    "g_size_h = 0.15\n",
    "b9 =rb.makeBox(g_size_t, 4*g_size_t, g_size_t, color=g_color)\n",
    "b10=rb.makeBox(g_size_t, g_size_t, g_size_h, color=g_color)\n",
    "b10.translate(fv(0, -1.5*g_size_t, -0.5*(g_size_t + g_size_h)))\n",
    "b11=rb.makeBox(g_size_t, g_size_t, g_size_h, color=g_color)\n",
    "b11.translate(fv(0,  1.5*g_size_t, -0.5*(g_size_t + g_size_h)))\n",
    "b9.assoc(b10)\n",
    "b9.assoc(b11)\n",
    "b9.translate(fv(0, p_l1_size_len - p_j1_size_r - p_j2_size_r + p_l2_size_len - p_j2_size_r - p_j3_size_r,\n",
    "                   p_base_h*1.75 + p_j1_size_t*2 - p_j2_size_t - p_l2_size_t - p_j3_size_t - g_size_t*0.5))"
   ]
  },
  {
   "cell_type": "code",
   "execution_count": 18,
   "id": "967f49a3-d2e4-4067-916b-764d62760aed",
   "metadata": {},
   "outputs": [
    {
     "data": {
      "text/plain": [
       "Wrap: <coordinates[0x58ef611d2f60] 0 1.8 0.8 / 0.707107 0 0 0.707107 > | <cnoid.Util.SgPosTransform object at 0x7b1edadc2070>"
      ]
     },
     "execution_count": 18,
     "metadata": {},
     "output_type": "execute_result"
    }
   ],
   "source": [
    "j=rb.createJointShape(jointType=Link.JointType.RevoluteJoint)\n",
    "j.rotate(PI/2, coordinates.X)\n",
    "j.translate(fv(0, p_l1_size_len - p_j1_size_r - p_j2_size_r + p_l2_size_len - p_j2_size_r - p_j3_size_r, p_base_h*1.75 + p_j1_size_t*2 - p_j2_size_t - p_l2_size_t), coordinates.wrt.world)"
   ]
  },
  {
   "cell_type": "code",
   "execution_count": 19,
   "id": "776c0841-2912-4a14-b4e3-8e71d4033233",
   "metadata": {},
   "outputs": [],
   "source": [
    "l3=rb.createLinkFromShape(name='LINK3', parentLink=l2, density=400.0, JointId=3, JointName='JOINT3',\n",
    "                          InitialJointAngle=0.0, JointRange=[-PI, PI], JointVelocityRange=[-PI*10, PI*10], JointEffortRange=[-100, 100],\n",
    "                          EquivalentRotorInertia=0.1)"
   ]
  },
  {
   "cell_type": "markdown",
   "id": "864926d4-204e-41ab-a679-d140f3ccf7d4",
   "metadata": {},
   "source": [
    "## export"
   ]
  },
  {
   "cell_type": "code",
   "execution_count": 20,
   "id": "4615e83b-b49d-4666-96ac-ef58307ef854",
   "metadata": {},
   "outputs": [
    {
     "data": {
      "text/plain": [
       "True"
      ]
     },
     "execution_count": 20,
     "metadata": {},
     "output_type": "execute_result"
    }
   ],
   "source": [
    "rb.exportBody('/userdir/builder_scalar_robot.body')"
   ]
  },
  {
   "cell_type": "code",
   "execution_count": 19,
   "id": "b22f329a-a589-46a4-92ed-6ef4e230bb38",
   "metadata": {},
   "outputs": [
    {
     "name": "stdout",
     "output_type": "stream",
     "text": [
      "\n"
     ]
    },
    {
     "data": {
      "image/png": "[encoded data removed]",
      "text/plain": [
       "<IPython.core.display.Image object>"
      ]
     },
     "metadata": {},
     "output_type": "display_data"
    }
   ],
   "source": [
    "%display"
   ]
  },
  {
   "cell_type": "markdown",
   "id": "8259c598-3f32-41e0-af4f-47f3d50efe94",
   "metadata": {},
   "source": [
    "# Use built robot"
   ]
  },
  {
   "cell_type": "code",
   "execution_count": 33,
   "id": "84d65aaf-63b3-414b-892c-ec1d4895f7f0",
   "metadata": {},
   "outputs": [],
   "source": [
    "robot=RobotModel.loadModelItem(\"builder_scalar_robot.body\")"
   ]
  },
  {
   "cell_type": "code",
   "execution_count": 34,
   "id": "6d594dcd-21e5-446f-9562-e8b611a56828",
   "metadata": {},
   "outputs": [],
   "source": [
    "robot.registerEndEffector('arm', ## end-effector\n",
    "                          'LINK3', ## tip-link\n",
    "                          tip_link_to_eef=coordinates(fv(0, -0.4, 0), fv(-0.707107, 0, 0, 0.707107)),\n",
    "                          joint_list = robot.jointNames\n",
    "                          )"
   ]
  },
  {
   "cell_type": "code",
   "execution_count": 35,
   "id": "9c2486c7-26d1-4d3b-8adb-f58286083805",
   "metadata": {},
   "outputs": [
    {
     "data": {
      "text/plain": [
       "(True, 6)"
      ]
     },
     "execution_count": 35,
     "metadata": {},
     "output_type": "execute_result"
    }
   ],
   "source": [
    "robot.arm.inverseKinematics(coordinates(fv(0, 1.4, 0.5)), add_noise=True)"
   ]
  }
 ],
 "metadata": {
  "kernelspec": {
   "display_name": "Choreonoid",
   "language": "python",
   "name": "choreonoid"
  },
  "language_info": {
   "file_extension": ".py",
   "mimetype": "text/x-python",
   "name": "python",
   "version": "3.8.10"
  }
 },
 "nbformat": 4,
 "nbformat_minor": 5
}
