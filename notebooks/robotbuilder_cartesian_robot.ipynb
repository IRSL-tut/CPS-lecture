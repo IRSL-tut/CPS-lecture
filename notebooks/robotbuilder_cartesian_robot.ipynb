{
 "cells": [
  {
   "cell_type": "code",
   "execution_count": 1,
   "id": "f276cfe2-b6d3-4196-96e0-b63c66a14e65",
   "metadata": {},
   "outputs": [],
   "source": [
    "exec(open('/choreonoid_ws/install/share/irsl_choreonoid/sample/irsl_import.py').read())"
   ]
  },
  {
   "cell_type": "code",
   "execution_count": 2,
   "id": "edb72c53-217c-43f7-98b8-6d31fe0db6a9",
   "metadata": {},
   "outputs": [],
   "source": [
    "rb=RobotBuilder()"
   ]
  },
  {
   "cell_type": "markdown",
   "id": "4f724052-5f08-429e-84e7-9321710500b0",
   "metadata": {},
   "source": [
    "## rootlink"
   ]
  },
  {
   "cell_type": "code",
   "execution_count": 3,
   "id": "6e5f76be-829f-48cb-bbcc-60407cfc4b42",
   "metadata": {},
   "outputs": [],
   "source": [
    "p_baselength = 2.0\n",
    "p_size = 0.2\n",
    "p_ssize = 0.05\n",
    "p_baseheight = 1.0\n",
    "p_armlength = 1.3\n",
    "p_offset = 0.1\n",
    "g_color = [0.2, 0.7, 0.2]\n",
    "a_color = [0.7, 0.2, 0.2]\n",
    "p_lsize=0.12\n",
    "p_lastlength = 0.6\n",
    "p_j2_len = 1.0"
   ]
  },
  {
   "cell_type": "code",
   "execution_count": 4,
   "id": "5231d9df",
   "metadata": {},
   "outputs": [
    {
     "data": {
      "text/plain": [
       "Wrap: <coordinates[0x584f57baee60] 0 0.125 0.1 / 0 0 0 1 > | <cnoid.Util.SgPosTransform object at 0x7e04376beeb0>"
      ]
     },
     "execution_count": 4,
     "metadata": {},
     "output_type": "execute_result"
    }
   ],
   "source": [
    "b0=rb.makeBox(p_baselength, p_size, p_size, color=g_color)\n",
    "b0.translate(fv(0, 0, 0.5*p_size))\n",
    "b1=rb.makeBox(p_baselength, p_ssize, p_ssize, color=a_color)\n",
    "b1.translate(fv(0, 0.5*(p_size + p_ssize), 0.5*p_size))"
   ]
  },
  {
   "cell_type": "code",
   "execution_count": 5,
   "id": "1a67f895-5b0b-49ba-86e3-928ec85a7ee2",
   "metadata": {},
   "outputs": [],
   "source": [
    "l_root=rb.createLinkFromShape(name='Root', root=True, density=400.0)"
   ]
  },
  {
   "cell_type": "markdown",
   "id": "196a3fac-2c74-41ad-a8e2-b26658e57bbf",
   "metadata": {},
   "source": [
    "## link0"
   ]
  },
  {
   "cell_type": "code",
   "execution_count": 6,
   "id": "3b32ed0b-37af-4368-84db-694c5c12a4fe",
   "metadata": {},
   "outputs": [
    {
     "data": {
      "text/plain": [
       "Wrap: <coordinates[0x584f57446bd0] 0.125 0.8 1.025 / 0 0 0 1 > | <cnoid.Util.SgPosTransform object at 0x7e04366b0b70>"
      ]
     },
     "execution_count": 6,
     "metadata": {},
     "output_type": "execute_result"
    }
   ],
   "source": [
    "b2=rb.makeBox(p_size, p_size + p_offset, p_baseheight, color=g_color)\n",
    "b2.translate(fv(0, 0, 0.5*(p_baseheight + p_size + p_ssize)))\n",
    "b3=rb.makeBox(p_size, p_armlength, p_size, color=g_color)\n",
    "b3.translate(fv(0, (p_armlength + p_size + p_offset)*0.5, p_baseheight + 0.5*p_ssize))\n",
    "b4=rb.makeBox(p_ssize, p_armlength, p_ssize, color=a_color)\n",
    "b4.translate(fv((p_size + p_ssize)*0.5, (p_armlength + p_size + p_offset)*0.5, p_baseheight + 0.5*p_ssize))"
   ]
  },
  {
   "cell_type": "code",
   "execution_count": 7,
   "id": "f3da3702-8f13-4b73-868e-c67af8d4fd76",
   "metadata": {},
   "outputs": [
    {
     "data": {
      "text/plain": [
       "Wrap: <coordinates[0x584f57ca3d10] 0 0 0.2 / 0 0 -0.707107 0.707107 > | <cnoid.Util.SgPosTransform object at 0x7e04640365f0>"
      ]
     },
     "execution_count": 7,
     "metadata": {},
     "output_type": "execute_result"
    }
   ],
   "source": [
    "j=rb.createJointShape(jointType=Link.JointType.PrismaticJoint)\n",
    "j.rotate(-PI/2, coordinates.Z)\n",
    "j.translate(fv(0, 0, p_size))"
   ]
  },
  {
   "cell_type": "code",
   "execution_count": 8,
   "id": "c71da66f-4ef2-4e04-a6b1-b73edc615597",
   "metadata": {},
   "outputs": [],
   "source": [
    "l0=rb.createLinkFromShape(name='LINK0', parentLink=l_root, density=400.0, JointId=0, JointName='JOINT0',\n",
    "                          InitialJointAngle=0.0, JointRange=[-1.0, 1.0], JointVelocityRange=[-PI*10, PI*10], JointEffortRange=[-100, 100],\n",
    "                          EquivalentRotorInertia=0.1)"
   ]
  },
  {
   "cell_type": "markdown",
   "id": "b71b869f-03e9-4744-b943-26268466838a",
   "metadata": {},
   "source": [
    "## link1"
   ]
  },
  {
   "cell_type": "code",
   "execution_count": 9,
   "id": "9a85a0cb-9ff8-4cab-9b4a-78cd8d0b8e95",
   "metadata": {},
   "outputs": [
    {
     "data": {
      "text/plain": [
       "Wrap: <coordinates[0x584f57452350] 0.15 0.8 1.15 / 0 0 0 1 > | <cnoid.Util.SgPosTransform object at 0x7e0474c1d4b0>"
      ]
     },
     "execution_count": 9,
     "metadata": {},
     "output_type": "execute_result"
    }
   ],
   "source": [
    "b5=rb.makeBox(p_lastlength, p_size, p_size, color=g_color)\n",
    "b5.translate(fv(0.5*(p_lastlength - p_size - p_offset), (p_armlength + p_size + p_offset)*0.5, p_baseheight + p_ssize + 0.5*p_size))"
   ]
  },
  {
   "cell_type": "code",
   "execution_count": 10,
   "id": "3953e5e8-4022-4060-8bfa-138b3f40f7b1",
   "metadata": {},
   "outputs": [
    {
     "data": {
      "text/plain": [
       "Wrap: <coordinates[0x584f57b2b6b0] 0.15 0.8 1.15 / 0 0 0 1 > | <cnoid.Util.SgPosTransform object at 0x7e04376aa930>"
      ]
     },
     "execution_count": 10,
     "metadata": {},
     "output_type": "execute_result"
    }
   ],
   "source": [
    "j=rb.createJointShape(jointType=Link.JointType.PrismaticJoint)\n",
    "j.translate(fv(0.5*(p_lastlength - p_size - p_offset), (p_armlength + p_size + p_offset)*0.5, p_baseheight + p_ssize + 0.5*p_size))"
   ]
  },
  {
   "cell_type": "code",
   "execution_count": 11,
   "id": "7209f477-f727-4d74-b781-83cd37088753",
   "metadata": {},
   "outputs": [],
   "source": [
    "l1=rb.createLinkFromShape(name='LINK1', parentLink=l0, density=400.0, JointId=1, JointName='JOINT1',\n",
    "                          InitialJointAngle=0.0, JointRange=[-0.5, 0.5], JointVelocityRange=[-PI*10, PI*10], JointEffortRange=[-100, 100],\n",
    "                          EquivalentRotorInertia=0.1)"
   ]
  },
  {
   "cell_type": "markdown",
   "id": "f8ee351c-07c3-48b6-9764-2ae60e3a4ac6",
   "metadata": {},
   "source": [
    "## link2"
   ]
  },
  {
   "cell_type": "code",
   "execution_count": 12,
   "id": "4a396466-3b54-4315-9ee1-b0191cd6aa86",
   "metadata": {},
   "outputs": [
    {
     "data": {
      "text/plain": [
       "Wrap: <coordinates[0x584f57bdf0b0] 0.34 0.8 1.5 / 0 0 0 1 > | <cnoid.Util.SgPosTransform object at 0x7e0474c1d7f0>"
      ]
     },
     "execution_count": 12,
     "metadata": {},
     "output_type": "execute_result"
    }
   ],
   "source": [
    "b6=rb.makeBox(p_lsize, p_lsize, p_j2_len, color=a_color)\n",
    "b6.translate(fv(p_lastlength - p_offset - 0.5*(p_size + p_lsize),\n",
    "                (p_armlength + p_size + p_offset)*0.5,\n",
    "                p_j2_len*0.5 + p_baseheight))"
   ]
  },
  {
   "cell_type": "code",
   "execution_count": 13,
   "id": "2b5aee14-c8ac-4586-99f3-b903fc4c7e04",
   "metadata": {},
   "outputs": [
    {
     "data": {
      "text/plain": [
       "Wrap: <coordinates[0x584f57bdec70] 0.34 0.8 0.95 / 0 0 0 1 > | <cnoid.Util.SgPosTransform object at 0x7e04366ba9b0>"
      ]
     },
     "execution_count": 13,
     "metadata": {},
     "output_type": "execute_result"
    }
   ],
   "source": [
    "## gripper shape ## TODO add size\n",
    "g_size_t = 0.1\n",
    "g_size_h = 0.15\n",
    "b9 =rb.makeBox(g_size_t, 4*g_size_t, g_size_t, color=g_color)\n",
    "b10=rb.makeBox(g_size_t, g_size_t, g_size_h, color=g_color)\n",
    "b10.translate(fv(0, -1.5*g_size_t, -0.5*(g_size_t + g_size_h)))\n",
    "b11=rb.makeBox(g_size_t, g_size_t, g_size_h, color=g_color)\n",
    "b11.translate(fv(0,  1.5*g_size_t, -0.5*(g_size_t + g_size_h)))\n",
    "b9.assoc(b10)\n",
    "b9.assoc(b11)\n",
    "b9.translate(fv(p_lastlength - p_offset - 0.5*(p_size + p_lsize),\n",
    "                (p_armlength + p_size + p_offset)*0.5,\n",
    "                p_baseheight - g_size_t*0.5))"
   ]
  },
  {
   "cell_type": "code",
   "execution_count": 14,
   "id": "ae1eb7aa-bdd3-4001-94d3-c9c2079df4d5",
   "metadata": {},
   "outputs": [
    {
     "data": {
      "text/plain": [
       "Wrap: <coordinates[0x584f57bd5520] 0.34 0.8 1.05 / -0.707107 0 0 0.707107 > | <cnoid.Util.SgPosTransform object at 0x7e0474c4a2f0>"
      ]
     },
     "execution_count": 14,
     "metadata": {},
     "output_type": "execute_result"
    }
   ],
   "source": [
    "j=rb.createJointShape(jointType=Link.JointType.PrismaticJoint)\n",
    "j.rotate(-PI/2, coordinates.X)\n",
    "j.translate(fv(p_lastlength - p_offset - 0.5*(p_size + p_lsize),\n",
    "               (p_armlength + p_size + p_offset)*0.5,\n",
    "               p_baseheight + p_ssize), coordinates.wrt.world)"
   ]
  },
  {
   "cell_type": "code",
   "execution_count": 15,
   "id": "583502ed-0fcc-487f-93cb-a4d335d5a3ef",
   "metadata": {},
   "outputs": [],
   "source": [
    "l2=rb.createLinkFromShape(name='LINK2', parentLink=l1, density=400.0, JointId=2, JointName='JOINT2',\n",
    "                          InitialJointAngle=0.0, JointRange=[-0.2, 1.0], JointVelocityRange=[-PI*10, PI*10], JointEffortRange=[-100, 100],\n",
    "                          EquivalentRotorInertia=0.1)"
   ]
  },
  {
   "cell_type": "markdown",
   "id": "864926d4-204e-41ab-a679-d140f3ccf7d4",
   "metadata": {},
   "source": [
    "## export"
   ]
  },
  {
   "cell_type": "code",
   "execution_count": 16,
   "id": "4615e83b-b49d-4666-96ac-ef58307ef854",
   "metadata": {},
   "outputs": [
    {
     "data": {
      "text/plain": [
       "True"
      ]
     },
     "execution_count": 16,
     "metadata": {},
     "output_type": "execute_result"
    }
   ],
   "source": [
    "rb.exportBody('/userdir/builder_cartesian_robot.body')"
   ]
  },
  {
   "cell_type": "code",
   "execution_count": 140,
   "id": "b22f329a-a589-46a4-92ed-6ef4e230bb38",
   "metadata": {},
   "outputs": [
    {
     "name": "stdout",
     "output_type": "stream",
     "text": [
      "\n"
     ]
    },
    {
     "data": {
      "image/png": "[encoded data removed]",
      "text/plain": [
       "<IPython.core.display.Image object>"
      ]
     },
     "metadata": {},
     "output_type": "display_data"
    }
   ],
   "source": [
    "%display"
   ]
  },
  {
   "cell_type": "markdown",
   "id": "ac8d887f-efab-4f1e-8985-862cb633590d",
   "metadata": {},
   "source": [
    "# Use built robot"
   ]
  },
  {
   "cell_type": "code",
   "execution_count": 7,
   "id": "eac3a67b-c329-41df-8451-836baca7d1b5",
   "metadata": {},
   "outputs": [],
   "source": [
    "robot=RobotModel.loadModelItem(\"builder_cartesian_robot.body\")"
   ]
  },
  {
   "cell_type": "code",
   "execution_count": 22,
   "id": "10f1ef32-9542-49b7-afba-eb86440e3b02",
   "metadata": {},
   "outputs": [],
   "source": [
    "robot.registerEndEffector('arm', ## end-effector\n",
    "                          'LINK2', ## tip-link\n",
    "                          tip_link_to_eef=coordinates(fv(0, 0.3, 0), fv(0.707107, 0, 0, 0.707107)),\n",
    "                          joint_list = robot.jointNames\n",
    "                          )"
   ]
  },
  {
   "cell_type": "code",
   "execution_count": 37,
   "id": "df4eac48-86aa-4a81-a84b-15c675dab145",
   "metadata": {},
   "outputs": [
    {
     "data": {
      "text/plain": [
       "(True, 4)"
      ]
     },
     "execution_count": 37,
     "metadata": {},
     "output_type": "execute_result"
    }
   ],
   "source": [
    "robot.arm.inverseKinematics(coordinates(fv(0.6, 0.9, 0.6)), constraints='xyz')"
   ]
  }
 ],
 "metadata": {
  "kernelspec": {
   "display_name": "Choreonoid",
   "language": "python",
   "name": "choreonoid"
  },
  "language_info": {
   "file_extension": ".py",
   "mimetype": "text/x-python",
   "name": "python",
   "version": "3.8.10"
  }
 },
 "nbformat": 4,
 "nbformat_minor": 5
}
